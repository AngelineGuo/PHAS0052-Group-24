{
 "cells": [
  {
   "cell_type": "code",
   "execution_count": null,
   "id": "bac3c84e-e876-4446-b6ff-37b81e0f1ae9",
   "metadata": {},
   "outputs": [],
   "source": []
  }
 ],
 "metadata": {
  "kernelspec": {
   "display_name": "",
   "name": ""
  },
  "language_info": {
   "name": ""
  }
 },
 "nbformat": 4,
 "nbformat_minor": 5
}

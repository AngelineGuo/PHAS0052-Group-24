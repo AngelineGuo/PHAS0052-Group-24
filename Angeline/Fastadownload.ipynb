{
 "cells": [
  {
   "cell_type": "code",
   "execution_count": 63,
   "id": "121e0c83-1fca-44f4-ab6f-d0b63de36cdf",
   "metadata": {},
   "outputs": [],
   "source": [
    "import os\n",
    "import requests\n",
    "import csv\n",
    "import re\n",
    "import numpy as np"
   ]
  },
  {
   "cell_type": "code",
   "execution_count": 37,
   "id": "970ec414-e300-40e6-960e-287037a7bc08",
   "metadata": {},
   "outputs": [
    {
     "name": "stdout",
     "output_type": "stream",
     "text": [
      "[('6ksh', 'D'), ('4cta', 'A'), ('2x14', 'A'), ('2j9c', 'A'), ('3f5m', 'A'), ('3ruv', 'D'), ('5trd', 'A'), ('3c1m', 'C'), ('3v2u', 'C'), ('1f3f', 'C'), ('7nsd', 'A'), ('5dd7', 'A'), ('1i58', 'A'), ('3hy2', 'Y'), ('7uld', 'A'), ('1z0s', 'A'), ('1un9', 'A'), ('7alr', 'A'), ('121p', 'A'), ('2jg1', 'C'), ('6cau', 'A'), ('2py7', 'X'), ('5dgh', 'A'), ('2aqx', 'B'), ('3dnt', 'A'), ('3wgu', 'C'), ('4uxx', 'C'), ('2xan', 'A'), ('6ci7', 'C'), ('3gqk', 'A'), ('4amf', 'A'), ('1d4x', 'A'), ('7cqq', 'A'), ('4lac', 'C'), ('7d8i', 'A'), ('1xdp', 'A'), ('2i1o', 'A'), ('1vl1', 'A'), ('1to6', 'A'), ('1yzy', 'A'), ('1fit', 'A'), ('1s1d', 'A'), ('6a8p', 'B'), ('2bz0', 'A'), ('3zcb', 'A'), ('4edk', 'A'), ('5guf', 'A'), ('1k90', 'A'), ('4crj', 'A'), ('6aaz', 'A'), ('6fl4', 'A'), ('8dcd', 'A'), ('1twf', 'B'), ('7tgk', 'D'), ('1rn8', 'A'), ('1j09', 'A'), ('2q16', 'B'), ('7edz', 'C'), ('1wc6', 'B'), ('3tux', 'A'), ('3vth', 'A'), ('6p1p', 'A'), ('6r5d', 'A'), ('4yvz', 'A'), ('4ru9', 'A'), ('3f2b', 'A'), ('3erc', 'C'), ('6t0v', 'B'), ('7y7p', 'A'), ('6sqz', 'D'), ('1mb9', 'B'), ('8dbj', 'A'), ('6b5k', 'A'), ('6h77', 'A'), ('3wdl', 'B'), ('4ff3', 'A'), ('2f17', 'A'), ('5bsm', 'A'), ('1xdn', 'A'), ('6c02', 'A'), ('5w51', 'E'), ('3amt', 'A'), ('6ig2', 'D'), ('3jqm', 'B'), ('7fgg', 'A'), ('6vd0', 'A'), ('6d5k', 'C'), ('7v0f', 'A'), ('6txe', 'A')]\n"
     ]
    }
   ],
   "source": [
    "pdb_ext = []\n",
    "with open('PHAS0052 PDB File - Sheet1.csv') as csvDataFile:\n",
    "    read = csv.reader(csvDataFile)\n",
    "    for i in read:\n",
    "        pdb_ext.append(i[0])\n",
    "\n",
    "pdb_info = [(entry[:-1].lower(), entry[-1]) for entry in pdb_ext]\n",
    "\n",
    "print(pdb_info)"
   ]
  },
  {
   "cell_type": "code",
   "execution_count": 9,
   "id": "611b91c0-b8e4-4f6c-8ff1-fd4661218903",
   "metadata": {},
   "outputs": [
    {
     "name": "stdout",
     "output_type": "stream",
     "text": [
      "Downloaded FASTA for 6KSH chain D into 6ksh_D.fasta\n",
      "Downloaded FASTA for 4CTA chain A into 4cta_A.fasta\n",
      "Downloaded FASTA for 2X14 chain A into 2x14_A.fasta\n",
      "Downloaded FASTA for 2J9C chain A into 2j9c_A.fasta\n",
      "Downloaded FASTA for 3F5M chain A into 3f5m_A.fasta\n",
      "Downloaded FASTA for 3RUV chain D into 3ruv_D.fasta\n",
      "Downloaded FASTA for 5TRD chain A into 5trd_A.fasta\n",
      "Downloaded FASTA for 3C1M chain C into 3c1m_C.fasta\n",
      "Downloaded FASTA for 3V2U chain C into 3v2u_C.fasta\n",
      "Downloaded FASTA for 1F3F chain C into 1f3f_C.fasta\n",
      "Downloaded FASTA for 7NSD chain A into 7nsd_A.fasta\n",
      "Downloaded FASTA for 5DD7 chain A into 5dd7_A.fasta\n",
      "Downloaded FASTA for 1I58 chain A into 1i58_A.fasta\n",
      "Downloaded FASTA for 3HY2 chain Y into 3hy2_Y.fasta\n",
      "Downloaded FASTA for 7ULD chain A into 7uld_A.fasta\n",
      "Downloaded FASTA for 1Z0S chain A into 1z0s_A.fasta\n",
      "Downloaded FASTA for 1UN9 chain A into 1un9_A.fasta\n",
      "Downloaded FASTA for 7ALR chain A into 7alr_A.fasta\n",
      "Downloaded FASTA for 121P chain A into 121p_A.fasta\n",
      "Downloaded FASTA for 2JG1 chain C into 2jg1_C.fasta\n",
      "Downloaded FASTA for 6CAU chain A into 6cau_A.fasta\n",
      "Downloaded FASTA for 2PY7 chain X into 2py7_X.fasta\n",
      "Downloaded FASTA for 5DGH chain A into 5dgh_A.fasta\n",
      "Downloaded FASTA for 2AQX chain B into 2aqx_B.fasta\n",
      "Downloaded FASTA for 3DNT chain A into 3dnt_A.fasta\n",
      "Downloaded FASTA for 3WGU chain C into 3wgu_C.fasta\n",
      "Downloaded FASTA for 4UXX chain C into 4uxx_C.fasta\n",
      "Downloaded FASTA for 2XAN chain A into 2xan_A.fasta\n",
      "Downloaded FASTA for 6CI7 chain C into 6ci7_C.fasta\n",
      "Downloaded FASTA for 3GQK chain A into 3gqk_A.fasta\n",
      "Downloaded FASTA for 4AMF chain A into 4amf_A.fasta\n",
      "Downloaded FASTA for 1D4X chain A into 1d4x_A.fasta\n",
      "Downloaded FASTA for 7CQQ chain A into 7cqq_A.fasta\n",
      "Downloaded FASTA for 4LAC chain C into 4lac_C.fasta\n",
      "Downloaded FASTA for 7D8I chain A into 7d8i_A.fasta\n",
      "Downloaded FASTA for 1XDP chain A into 1xdp_A.fasta\n",
      "Downloaded FASTA for 2I1O chain A into 2i1o_A.fasta\n",
      "Downloaded FASTA for 1VL1 chain A into 1vl1_A.fasta\n",
      "Downloaded FASTA for 1TO6 chain A into 1to6_A.fasta\n",
      "Downloaded FASTA for 1YZY chain A into 1yzy_A.fasta\n",
      "Downloaded FASTA for 1FIT chain A into 1fit_A.fasta\n",
      "Downloaded FASTA for 1S1D chain A into 1s1d_A.fasta\n",
      "Downloaded FASTA for 6A8P chain B into 6a8p_B.fasta\n",
      "Downloaded FASTA for 2BZ0 chain A into 2bz0_A.fasta\n",
      "Downloaded FASTA for 3ZCB chain A into 3zcb_A.fasta\n",
      "Downloaded FASTA for 4EDK chain A into 4edk_A.fasta\n",
      "Downloaded FASTA for 5GUF chain A into 5guf_A.fasta\n",
      "Downloaded FASTA for 1K90 chain A into 1k90_A.fasta\n",
      "Downloaded FASTA for 4CRJ chain A into 4crj_A.fasta\n",
      "Downloaded FASTA for 6AAZ chain A into 6aaz_A.fasta\n",
      "Downloaded FASTA for 6FL4 chain A into 6fl4_A.fasta\n",
      "Downloaded FASTA for 8DCD chain A into 8dcd_A.fasta\n",
      "Downloaded FASTA for 1TWF chain B into 1twf_B.fasta\n",
      "Downloaded FASTA for 7TGK chain D into 7tgk_D.fasta\n",
      "Downloaded FASTA for 1RN8 chain A into 1rn8_A.fasta\n",
      "Downloaded FASTA for 1J09 chain A into 1j09_A.fasta\n",
      "Downloaded FASTA for 2Q16 chain B into 2q16_B.fasta\n",
      "Downloaded FASTA for 7EDZ chain C into 7edz_C.fasta\n",
      "Downloaded FASTA for 1WC6 chain B into 1wc6_B.fasta\n",
      "Downloaded FASTA for 3TUX chain A into 3tux_A.fasta\n",
      "Downloaded FASTA for 3VTH chain A into 3vth_A.fasta\n",
      "Downloaded FASTA for 6P1P chain A into 6p1p_A.fasta\n",
      "Downloaded FASTA for 6R5D chain A into 6r5d_A.fasta\n",
      "Downloaded FASTA for 4YVZ chain A into 4yvz_A.fasta\n",
      "Downloaded FASTA for 4RU9 chain A into 4ru9_A.fasta\n",
      "Downloaded FASTA for 3F2B chain A into 3f2b_A.fasta\n",
      "Downloaded FASTA for 3ERC chain C into 3erc_C.fasta\n",
      "Downloaded FASTA for 6T0V chain B into 6t0v_B.fasta\n",
      "Downloaded FASTA for 7Y7P chain A into 7y7p_A.fasta\n",
      "Downloaded FASTA for 6SQZ chain D into 6sqz_D.fasta\n",
      "Downloaded FASTA for 1MB9 chain B into 1mb9_B.fasta\n",
      "Downloaded FASTA for 8DBJ chain A into 8dbj_A.fasta\n",
      "Downloaded FASTA for 6B5K chain A into 6b5k_A.fasta\n",
      "Downloaded FASTA for 6H77 chain A into 6h77_A.fasta\n",
      "Downloaded FASTA for 3WDL chain B into 3wdl_B.fasta\n",
      "Downloaded FASTA for 4FF3 chain A into 4ff3_A.fasta\n",
      "Downloaded FASTA for 2F17 chain A into 2f17_A.fasta\n",
      "Downloaded FASTA for 5BSM chain A into 5bsm_A.fasta\n",
      "Downloaded FASTA for 1XDN chain A into 1xdn_A.fasta\n",
      "Downloaded FASTA for 6C02 chain A into 6c02_A.fasta\n",
      "Downloaded FASTA for 5W51 chain E into 5w51_E.fasta\n",
      "Downloaded FASTA for 3AMT chain A into 3amt_A.fasta\n",
      "Downloaded FASTA for 6IG2 chain D into 6ig2_D.fasta\n",
      "Downloaded FASTA for 3JQM chain B into 3jqm_B.fasta\n",
      "Downloaded FASTA for 7FGG chain A into 7fgg_A.fasta\n",
      "Downloaded FASTA for 6VD0 chain A into 6vd0_A.fasta\n",
      "Downloaded FASTA for 6D5K chain C into 6d5k_C.fasta\n",
      "Downloaded FASTA for 7V0F chain A into 7v0f_A.fasta\n",
      "Downloaded FASTA for 6TXE chain A into 6txe_A.fasta\n"
     ]
    }
   ],
   "source": [
    "for pdb_id, chain_id in pdb_info:\n",
    "    # Construct the RCSB URL for retrieving the FASTA\n",
    "    url = f\"https://www.rcsb.org/fasta/entry/{pdb_id.upper()}?chainId={chain_id.upper()}\"\n",
    "    \n",
    "    try:\n",
    "        response = requests.get(url)\n",
    "        response.raise_for_status()  # Raise HTTPError if the request returned an unsuccessful status code\n",
    "        \n",
    "        # Define a filename, e.g., \"6ksh_D.fasta\"\n",
    "        filename = f\"{pdb_id.lower()}_{chain_id.upper()}.fasta\"\n",
    "        \n",
    "        with open(filename, \"w\") as outfile:\n",
    "            outfile.write(response.text)\n",
    "        \n",
    "        print(f\"Downloaded FASTA for {pdb_id.upper()} chain {chain_id.upper()} into {filename}\")\n",
    "    \n",
    "    except requests.exceptions.RequestException as e:\n",
    "        print(f\"Error downloading {pdb_id.upper()} chain {chain_id.upper()}: {e}\")"
   ]
  },
  {
   "cell_type": "code",
   "execution_count": 81,
   "id": "f30cc1ea-1596-4a3b-b6a4-01ed7234f8cf",
   "metadata": {},
   "outputs": [
    {
     "name": "stdout",
     "output_type": "stream",
     "text": [
      "Created AlphaFold Server JSON (version 3) with 89 jobs: alphafold_jobs.json\n"
     ]
    }
   ],
   "source": [
    "import os\n",
    "import json\n",
    "\n",
    "# Directory containing the downloaded FASTA files\n",
    "FASTA_DIR = \"fasta\"\n",
    "\n",
    "# This will hold a list of job dictionaries\n",
    "jobs = []\n",
    "\n",
    "# Loop over all FASTA files in the directory\n",
    "for filename in os.listdir(FASTA_DIR):\n",
    "    if filename.endswith(\".fasta\"):\n",
    "        filepath = os.path.join(FASTA_DIR, filename)\n",
    "\n",
    "        # Example of FASTA filename: \"6ksh_D.fasta\"\n",
    "        # Remove the extension -> \"6ksh_D\"\n",
    "        base_name = os.path.splitext(filename)[0]  # e.g. \"6ksh_D\"\n",
    "\n",
    "        # Split into pdb_id and chain_id if there's an underscore\n",
    "        if \"_\" in base_name:\n",
    "            pdb_id, chain_id = base_name.split(\"_\", maxsplit=1)\n",
    "        else:\n",
    "            # If no underscore, assume entire thing is pdb_id (chain = \"\")\n",
    "            pdb_id, chain_id = base_name, \"\"\n",
    "\n",
    "        # Read lines from FASTA and strip whitespace\n",
    "        with open(filepath, \"r\") as f:\n",
    "            lines = [line.strip() for line in f if line.strip()]\n",
    "\n",
    "        # Skip empty files\n",
    "        if not lines:\n",
    "            continue\n",
    "\n",
    "        # First line is the header (e.g. \">6KSH_1|Chain D|...\")\n",
    "        header_line = lines[0]\n",
    "        if header_line.startswith(\">\"):\n",
    "            header_line = header_line[1:].strip()\n",
    "\n",
    "        # The remaining lines are the sequence. Join them into one string.\n",
    "        sequence = \"\".join(lines[1:])\n",
    "\n",
    "        # Construct a job name (you can customize however you like):\n",
    "        job_name = f\"AlphaFold_{pdb_id.upper()}_{chain_id.upper()}\" if chain_id else f\"AlphaFold_{pdb_id.upper()}\"\n",
    "\n",
    "        # Build the job dictionary\n",
    "        job_dict = {\n",
    "            \"name\": job_name,\n",
    "            \"modelSeeds\": [],  # empty = random seed\n",
    "            \"sequences\": [\n",
    "                {\n",
    "                    \"proteinChain\": {\n",
    "                        \"sequence\": sequence,\n",
    "                        \"count\": 1\n",
    "                    }\n",
    "                }\n",
    "            ],\n",
    "            \"dialect\": \"alphafoldserver\",\n",
    "            # NOTE: Official docs mention up to \"version\": 1;\n",
    "            # If your server really supports version 3, set this to 3\n",
    "            \"version\": 3\n",
    "        }\n",
    "\n",
    "        # Append this job to the list of jobs\n",
    "        jobs.append(job_dict)\n",
    "\n",
    "# The final output is a list of job dictionaries\n",
    "# per the AlphaFold Server JSON file format\n",
    "output_filename = \"alphafold_jobs.json\"\n",
    "with open(output_filename, \"w\") as outfile:\n",
    "    json.dump(jobs, outfile, indent=2)\n",
    "\n",
    "print(f\"Created AlphaFold Server JSON (version 3) with {len(jobs)} jobs: {output_filename}\")\n"
   ]
  },
  {
   "cell_type": "code",
   "execution_count": 47,
   "id": "3572ede1-0a4e-465c-a529-c16b6e94cea5",
   "metadata": {},
   "outputs": [
    {
     "data": {
      "text/plain": [
       "61"
      ]
     },
     "execution_count": 47,
     "metadata": {},
     "output_type": "execute_result"
    }
   ],
   "source": [
    "pdb_info.index(('6p1p','A'))"
   ]
  },
  {
   "cell_type": "code",
   "execution_count": 51,
   "id": "93f61db3-a416-4dc6-b84a-120e013f79a9",
   "metadata": {},
   "outputs": [],
   "source": [
    "test = \"MGGSHHHHHHRSESTVTEELKEGIDAVYPSLVGTADSKAEGIKNYFKLSFTLPEEQKSRTVGSEAPLKDVAQALSSRARYELFTEKETANPAFNGEVIKRYKELMEHGEGIADILRSRLAKFLNTKDVGKRFAQGTEANRWVGGKLLNIVEQDGDTFKYNEQLLQTAVLAGLQWRLTATSNTAIKDAKDVAAITGIDQALLPEGLVEQFDTGMTLTEAVSSLAQKIESYWGLSRNPNAPLGYTKGIPTAMAAEILAAFVESTDVVENIVDMSEIDPDNKKTIGLYTITELDSFDPINSFPTAIEEAVLVNPTEKMFFGDDIPPVANTQLRNPAVRNTPEQKAALKAEQATEFYVHTPMVQFYETLGKDRILELMGAGTLNKELLNDNHAKSLEGKNRSVEDSYNQLFSVIEQVRAQSEDISTVPIHYAYNMTRVGRMQMLGKYNPQSAKLVREAILPTKATLDLSNQNNEDFSAFQLGLAQALDIKVHTMTREVMSDELTKLLEGNLKPAIDMMVEFNTTGSLPENAVDVLNTALGDRKSFVALMALMEYSRYLVAEDKSAFVTPLYVEADGVTNGPINAMMLMTGGLFTPDWIRNIAKGGLFIGSPNKTMNEHRSTADNNDLYQASTNALMESLGKLRSNYASNMPIQSQIDSLLSLMDLFLPDINLGENGALELKRGIAKNPLTITIYGSGARGIAGKLVSSVTDAIYERMSDVLKARAKDPNISAAMAMFGKQAASEAHAEELLARFLKDMETLTSTVPVKRKGVLELQSTGTGAKGKINPKTYTIKGEQLKALQENMLHFFVEPLRNGITQTVGESLVYSTEQLQKATQIQSVVLEDMFKQRVQEKLAEKAKDPTWKKGDFLTQKELNDIQASLNNLAPMIETGSQTFYIAGSENAEVANQVLATNLDDRMRVPMSIYAPAQAGVAGIPFMTIGTGDGMMMQTLSTMKGAPKNTLKIFDGMNIGLNDITDASRKANEAVYTSWQGNPIKNVYESYAKFMKNVDFSKLSPEALEAIGKSALEYDQRENATVDDIANAASLIERNLRNIALGVDIRHKVLDKVNLSIDQMAAVGAPYQNNGKIDLSNMTPEQQADELNKLFREELEARKQKVAKAR>4FF3_2|Chains B[auth C], D|Bacteriophage N4 P2 promoter|nullTGCCTCCCAGGCATTCAAAAGAAGCGGAGCTTCTTC\""
   ]
  },
  {
   "cell_type": "code",
   "execution_count": 59,
   "id": "b7375bea-1dce-4123-acf3-24922519327f",
   "metadata": {},
   "outputs": [],
   "source": [
    "letters = list(test)"
   ]
  },
  {
   "cell_type": "code",
   "execution_count": 71,
   "id": "162ef8da-25fd-4402-aca1-c60dc86883c2",
   "metadata": {},
   "outputs": [],
   "source": [
    "allowed_char =['A', 'R', 'D', 'C', 'Q', 'E', 'G', 'H', 'I', 'L', 'K', 'M', 'N', 'F', 'P', 'S', 'T', 'W', 'Y', 'V']"
   ]
  },
  {
   "cell_type": "code",
   "execution_count": 79,
   "id": "ca94988d-3b7d-4246-ac67-cac070a586eb",
   "metadata": {},
   "outputs": [],
   "source": [
    "difference = list(set(letters) - set(allowed_char))"
   ]
  },
  {
   "cell_type": "code",
   "execution_count": null,
   "id": "53982a0a-711d-4fa7-8d62-c4e9490af666",
   "metadata": {},
   "outputs": [],
   "source": []
  }
 ],
 "metadata": {
  "kernelspec": {
   "display_name": "Python 3 (ipykernel)",
   "language": "python",
   "name": "python3"
  },
  "language_info": {
   "codemirror_mode": {
    "name": "ipython",
    "version": 3
   },
   "file_extension": ".py",
   "mimetype": "text/x-python",
   "name": "python",
   "nbconvert_exporter": "python",
   "pygments_lexer": "ipython3",
   "version": "3.9.20"
  }
 },
 "nbformat": 4,
 "nbformat_minor": 5
}

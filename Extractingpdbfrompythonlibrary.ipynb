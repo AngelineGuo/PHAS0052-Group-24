{
  "nbformat": 4,
  "nbformat_minor": 0,
  "metadata": {
    "colab": {
      "provenance": []
    },
    "kernelspec": {
      "name": "python3",
      "display_name": "Python 3"
    },
    "language_info": {
      "name": "python"
    }
  },
  "cells": [
    {
      "cell_type": "code",
      "execution_count": 2,
      "metadata": {
        "colab": {
          "base_uri": "https://localhost:8080/"
        },
        "id": "STE-oOOUeTHB",
        "outputId": "2ca3bc11-84e6-4026-8d20-315c9e1b8182"
      },
      "outputs": [
        {
          "output_type": "stream",
          "name": "stdout",
          "text": [
            "Collecting biopython\n",
            "  Downloading biopython-1.85-cp311-cp311-manylinux_2_17_x86_64.manylinux2014_x86_64.whl.metadata (13 kB)\n",
            "Requirement already satisfied: numpy in /usr/local/lib/python3.11/dist-packages (from biopython) (1.26.4)\n",
            "Downloading biopython-1.85-cp311-cp311-manylinux_2_17_x86_64.manylinux2014_x86_64.whl (3.3 MB)\n",
            "\u001b[?25l   \u001b[90m━━━━━━━━━━━━━━━━━━━━━━━━━━━━━━━━━━━━━━━━\u001b[0m \u001b[32m0.0/3.3 MB\u001b[0m \u001b[31m?\u001b[0m eta \u001b[36m-:--:--\u001b[0m\r\u001b[2K   \u001b[91m━━━━━━━━━━━━━━━━━━━━━━━━━━━━━━━━━━━━━━━\u001b[0m\u001b[91m╸\u001b[0m \u001b[32m3.3/3.3 MB\u001b[0m \u001b[31m126.5 MB/s\u001b[0m eta \u001b[36m0:00:01\u001b[0m\r\u001b[2K   \u001b[90m━━━━━━━━━━━━━━━━━━━━━━━━━━━━━━━━━━━━━━━━\u001b[0m \u001b[32m3.3/3.3 MB\u001b[0m \u001b[31m67.7 MB/s\u001b[0m eta \u001b[36m0:00:00\u001b[0m\n",
            "\u001b[?25hInstalling collected packages: biopython\n",
            "Successfully installed biopython-1.85\n"
          ]
        }
      ],
      "source": [
        "pip install biopython"
      ]
    },
    {
      "cell_type": "code",
      "source": [
        "import os\n",
        "import requests\n",
        "from Bio.PDB import PDBParser\n",
        "\n",
        "def download_pdb(pdb_id, save_dir=\".\"):\n",
        "    \"\"\"\n",
        "    Downloads a PDB file from RCSB for the given PDB ID and saves it locally.\n",
        "    pdb_id: The 4-character PDB ID (e.g., '1CRN').\n",
        "    save_dir: Directory to save the downloaded PDB file.\n",
        "    return: The local file path to the downloaded PDB file.\n",
        "    \"\"\"\n",
        "    url = f\"https://files.rcsb.org/download/{pdb_id}.pdb\"\n",
        "    local_filename = os.path.join(save_dir, f\"{pdb_id}.pdb\")\n",
        "\n",
        "    print(f\"Downloading PDB {pdb_id} from {url}\")\n",
        "    response = requests.get(url)\n",
        "    if response.status_code == 200:\n",
        "        with open(local_filename, \"wb\") as f:\n",
        "            f.write(response.content)\n",
        "        print(f\"File saved to {local_filename}\")\n",
        "    else:\n",
        "        raise Exception(f\"Error downloading {pdb_id}, status code {response.status_code}\")\n",
        "\n",
        "    return local_filename\n",
        "\n",
        "def parse_pdb(file_path):\n",
        "    \"\"\"\n",
        "    Parses a PDB file using Bio.PDB and extracts basic information like:\n",
        "    - Chain IDs\n",
        "    - Residues\n",
        "    - Atom coordinates\n",
        "    file_path: The path to the PDB file.\n",
        "    return: A dictionary containing some extracted data.\n",
        "    \"\"\"\n",
        "    parser = PDBParser(QUIET=True)\n",
        "    structure = parser.get_structure(\"structure\", file_path)\n",
        "\n",
        "    # We'll store info in a dictionary\n",
        "    pdb_info = {\n",
        "        \"chains\": [],\n",
        "        \"residues\": [],\n",
        "        \"atoms\": []\n",
        "    }\n",
        "\n",
        "    for model in structure:\n",
        "        for chain in model:\n",
        "            chain_id = chain.id\n",
        "            pdb_info[\"chains\"].append(chain_id)\n",
        "\n",
        "            for residue in chain:\n",
        "                # residue.id is a tuple of form (hetero_flag, sequence_identifier, insertion_code)\n",
        "                # e.g., (' ', 50, ' ') for standard amino acids\n",
        "                residue_name = residue.get_resname()\n",
        "                residue_id = residue.id[1]\n",
        "                pdb_info[\"residues\"].append((chain_id, residue_name, residue_id))\n",
        "\n",
        "                for atom in residue:\n",
        "                    # Extract x, y, z coordinates\n",
        "                    coord = atom.get_coord()\n",
        "                    pdb_info[\"atoms\"].append({\n",
        "                        \"chain\": chain_id,\n",
        "                        \"residue_name\": residue_name,\n",
        "                        \"residue_id\": residue_id,\n",
        "                        \"atom_name\": atom.get_name(),\n",
        "                        \"coordinates\": coord.tolist()  # convert NumPy array to list\n",
        "                    })\n",
        "\n",
        "    return pdb_info\n",
        "\n",
        "if __name__ == \"__main__\":\n",
        "    # Example usage: download and parse the PDB file for 1CRN (Crambin).\n",
        "    pdb_id = \"1CRN\"\n",
        "    pdb_file_path = download_pdb(pdb_id, save_dir=\".\")\n",
        "\n",
        "    # Parse the downloaded file\n",
        "    extracted_info = parse_pdb(pdb_file_path)\n",
        "\n",
        "    # Print basic extracted information\n",
        "    print(\"\\nExtracted Chains:\")\n",
        "    print(set(extracted_info[\"chains\"]))\n",
        "\n",
        "    print(\"\\nNumber of Residues:\")\n",
        "    print(len(extracted_info[\"residues\"]))\n",
        "\n",
        "    print(\"\\nFirst 5 Atoms Extracted:\")\n",
        "    for atom_info in extracted_info[\"atoms\"][:5]:\n",
        "        print(atom_info)\n"
      ],
      "metadata": {
        "colab": {
          "base_uri": "https://localhost:8080/"
        },
        "id": "sHHipJUie3dk",
        "outputId": "a6b94f7c-facc-4dbc-e594-ebf50567cae1"
      },
      "execution_count": 4,
      "outputs": [
        {
          "output_type": "stream",
          "name": "stdout",
          "text": [
            "Downloading PDB 1CRN from https://files.rcsb.org/download/1CRN.pdb\n",
            "File saved to ./1CRN.pdb\n",
            "\n",
            "Extracted Chains:\n",
            "{'A'}\n",
            "\n",
            "Number of Residues:\n",
            "46\n",
            "\n",
            "First 5 Atoms Extracted:\n",
            "{'chain': 'A', 'residue_name': 'THR', 'residue_id': 1, 'atom_name': 'N', 'coordinates': [17.047000885009766, 14.098999977111816, 3.625]}\n",
            "{'chain': 'A', 'residue_name': 'THR', 'residue_id': 1, 'atom_name': 'CA', 'coordinates': [16.966999053955078, 12.784000396728516, 4.3379998207092285]}\n",
            "{'chain': 'A', 'residue_name': 'THR', 'residue_id': 1, 'atom_name': 'C', 'coordinates': [15.6850004196167, 12.755000114440918, 5.132999897003174]}\n",
            "{'chain': 'A', 'residue_name': 'THR', 'residue_id': 1, 'atom_name': 'O', 'coordinates': [15.267999649047852, 13.824999809265137, 5.593999862670898]}\n",
            "{'chain': 'A', 'residue_name': 'THR', 'residue_id': 1, 'atom_name': 'CB', 'coordinates': [18.170000076293945, 12.70300006866455, 5.336999893188477]}\n"
          ]
        }
      ]
    },
    {
      "cell_type": "code",
      "source": [],
      "metadata": {
        "id": "gXhNQt2He4gG"
      },
      "execution_count": null,
      "outputs": []
    }
  ]
}
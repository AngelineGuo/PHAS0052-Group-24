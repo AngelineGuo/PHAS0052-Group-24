{
  "nbformat": 4,
  "nbformat_minor": 0,
  "metadata": {
    "colab": {
      "provenance": []
    },
    "kernelspec": {
      "name": "python3",
      "display_name": "Python 3"
    },
    "language_info": {
      "name": "python"
    }
  },
  "cells": [
    {
      "cell_type": "code",
      "execution_count": null,
      "metadata": {
        "id": "8MPFuaKqEFRy"
      },
      "outputs": [],
      "source": [
        "import matplotlib.pyplot as plt\n",
        "from sklearn.metrics import accuracy_score\n",
        "\n",
        "# Extract accuracy values\n",
        "pdb_ids = []\n",
        "accuracies = []\n",
        "\n",
        "for pdb_id, result in results.items():\n",
        "    if \"binding_true\" in result.columns and \"binding_pred\" in result.columns:\n",
        "        accuracy = accuracy_score(result[\"binding_true\"], result[\"binding_pred\"])\n",
        "        pdb_ids.append(pdb_id)\n",
        "        accuracies.append(accuracy)\n",
        "\n",
        "# Plot accuracy diagram\n",
        "plt.figure(figsize=(12, 6))\n",
        "plt.bar(pdb_ids, accuracies, alpha=0.7)\n",
        "plt.xlabel(\"PDB ID\")\n",
        "plt.ylabel(\"Accuracy\")\n",
        "plt.title(\"Accuracy of Predictions for Different PDB Files\")\n",
        "plt.xticks(rotation=90)\n",
        "plt.ylim(0, 1)\n",
        "plt.grid(axis=\"y\", linestyle=\"--\", alpha=0.6)\n",
        "\n",
        "# Show the plot\n",
        "plt.show()\n"
      ]
    }
  ]
}
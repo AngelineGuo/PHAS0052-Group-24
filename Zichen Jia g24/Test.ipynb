{
  "nbformat": 4,
  "nbformat_minor": 0,
  "metadata": {
    "colab": {
      "provenance": []
    },
    "kernelspec": {
      "name": "python3",
      "display_name": "Python 3"
    },
    "language_info": {
      "name": "python"
    }
  },
  "cells": [
    {
      "cell_type": "code",
      "source": [
        "import os\n",
        "from Bio.PDB import PDBParser, Superimposer\n",
        "from Bio.PDB.NeighborSearch import NeighborSearch\n",
        "\n",
        "def parse_structure(pdb_file, structure_id=\"structure\"):\n",
        "    \"\"\"\n",
        "    Parse a PDB file and return the first model of the structure.\n",
        "    \"\"\"\n",
        "    parser = PDBParser(QUIET=True)\n",
        "    structure = parser.get_structure(structure_id, pdb_file)\n",
        "    return structure[0]  # return the first model (common for X-ray structures)\n",
        "\n",
        "def get_ca_atoms(model, chain_id=\"A\"):\n",
        "    \"\"\"\n",
        "    Retrieve the alpha-carbon (Cα) atoms from a specific chain.\n",
        "    Return a list of Bio.PDB.Atom objects.\n",
        "    \"\"\"\n",
        "    ca_atoms = []\n",
        "    if chain_id not in model:\n",
        "        raise ValueError(f\"Chain {chain_id} not found in structure.\")\n",
        "    chain = model[chain_id]\n",
        "    for residue in chain:\n",
        "        if residue.has_id(\"CA\"):\n",
        "            ca_atoms.append(residue[\"CA\"])\n",
        "    return ca_atoms\n",
        "\n",
        "def get_ligand_atoms(model, chain_id=\"A\", ligand_name=\"ATP\"):\n",
        "    \"\"\"\n",
        "    Retrieve all atoms corresponding to a specified ligand (e.g., 'ATP') in the given chain.\n",
        "    Returns a list of Atom objects. Returns an empty list if not found.\n",
        "    \"\"\"\n",
        "    ligand_atoms = []\n",
        "    if chain_id not in model:\n",
        "        return ligand_atoms\n",
        "\n",
        "    chain = model[chain_id]\n",
        "    for residue in chain:\n",
        "        if residue.get_resname().strip() == ligand_name:\n",
        "            for atom in residue:\n",
        "                ligand_atoms.append(atom)\n",
        "    return ligand_atoms\n",
        "\n",
        "def rmsd_atoms(atoms_ref, atoms_mov):\n",
        "    \"\"\"\n",
        "    Compute the RMSD between two lists of atoms (after they're superimposed).\n",
        "    \"\"\"\n",
        "    import numpy as np\n",
        "\n",
        "    if len(atoms_ref) != len(atoms_mov):\n",
        "        raise ValueError(\"Atom lists must have the same length for RMSD calculation.\")\n",
        "\n",
        "    sq_dist_sum = 0.0\n",
        "    for a_ref, a_mov in zip(atoms_ref, atoms_mov):\n",
        "        diff = a_ref.coord - a_mov.coord\n",
        "        sq_dist_sum += (diff * diff).sum()\n",
        "\n",
        "    return (sq_dist_sum / len(atoms_ref)) ** 0.5\n",
        "\n",
        "def main():\n",
        "    # --------------------------------------\n",
        "    # 1. File paths (change these as needed)\n",
        "    # --------------------------------------\n",
        "    # Suppose you downloaded the structure for 5P21 (Ras) as \"5P21.pdb\"\n",
        "    experimental_pdb = \"5P21.pdb\"  # Contains chain A with GTP, in reality\n",
        "    predicted_pdb = \"predicted_model.pdb\"  # Your predicted model (with or without ATP)\n",
        "\n",
        "    chain_id = \"A\"        # Adjust if your chain is labeled differently\n",
        "    ligand_name = \"ATP\"\n",
        "    # --------------------------------------\n",
        "    # 2. Parse the Structures\n",
        "    # --------------------------------------\n",
        "    exp_model = parse_structure(experimental_pdb, structure_id=\"exp\")\n",
        "    pred_model = parse_structure(predicted_pdb, structure_id=\"pred\")\n",
        "\n",
        "    # --------------------------------------\n",
        "    # 3. Get Protein Cα Atoms for Alignment\n",
        "    # --------------------------------------\n",
        "    exp_ca = get_ca_atoms(exp_model, chain_id=chain_id)\n",
        "    pred_ca = get_ca_atoms(pred_model, chain_id=chain_id)\n",
        "\n",
        "    if not exp_ca or not pred_ca:\n",
        "        raise ValueError(\"No Cα atoms found in one or both structures.\")\n",
        "\n",
        "    # --------------------------------------\n",
        "    # 4. Superimpose Predicted onto Experimental\n",
        "    # --------------------------------------\n",
        "    sup = Superimposer()\n",
        "    sup.set_atoms(exp_ca, pred_ca)\n",
        "    # Apply the rotation/translation to the entire predicted model\n",
        "    sup.apply(pred_model.get_atoms())\n",
        "    print(f\"Protein backbone RMSD (Cα) after alignment: {sup.rms:.3f} Å\")\n",
        "\n",
        "    # --------------------------------------\n",
        "    # 5. Compare Ligand Positions (ATP/GTP)\n",
        "    # --------------------------------------\n",
        "    exp_ligand_atoms = get_ligand_atoms(exp_model, chain_id=chain_id, ligand_name=ligand_name)\n",
        "    pred_ligand_atoms = get_ligand_atoms(pred_model, chain_id=chain_id, ligand_name=ligand_name)\n",
        "\n",
        "    if not exp_ligand_atoms:\n",
        "        print(f\"No {ligand_name} found in experimental structure. Check if it's really there.\")\n",
        "        return\n",
        "\n",
        "    if not pred_ligand_atoms:\n",
        "        print(f\"No {ligand_name} found in predicted structure. Cannot compare ligand positions.\")\n",
        "        return\n",
        "\n",
        "    if len(exp_ligand_atoms) != len(pred_ligand_atoms):\n",
        "        print(\"Mismatch in ligand atom counts between experimental and predicted.\")\n",
        "        return\n",
        "\n",
        "    # Calculate RMSD for ligand\n",
        "    ligand_rmsd = rmsd_atoms(exp_ligand_atoms, pred_ligand_atoms)\n",
        "    print(f\"{ligand_name} RMSD (experimental vs. predicted): {ligand_rmsd:.3f} Å\")\n",
        "\n",
        "if __name__ == \"__main__\":\n",
        "    main()\n"
      ],
      "metadata": {
        "colab": {
          "base_uri": "https://localhost:8080/",
          "height": 384
        },
        "id": "SJZ7gB2hVHb5",
        "outputId": "149f3ab2-6484-45f0-bf77-0d5e00f009e0"
      },
      "execution_count": 3,
      "outputs": [
        {
          "output_type": "error",
          "ename": "ModuleNotFoundError",
          "evalue": "No module named 'biopython'",
          "traceback": [
            "\u001b[0;31m---------------------------------------------------------------------------\u001b[0m",
            "\u001b[0;31mModuleNotFoundError\u001b[0m                       Traceback (most recent call last)",
            "\u001b[0;32m<ipython-input-3-eaf1eef7b128>\u001b[0m in \u001b[0;36m<cell line: 0>\u001b[0;34m()\u001b[0m\n\u001b[1;32m      1\u001b[0m \u001b[0;32mimport\u001b[0m \u001b[0mos\u001b[0m\u001b[0;34m\u001b[0m\u001b[0;34m\u001b[0m\u001b[0m\n\u001b[0;32m----> 2\u001b[0;31m \u001b[0;32mimport\u001b[0m \u001b[0mbiopython\u001b[0m\u001b[0;34m\u001b[0m\u001b[0;34m\u001b[0m\u001b[0m\n\u001b[0m\u001b[1;32m      3\u001b[0m \u001b[0;32mfrom\u001b[0m \u001b[0mBio\u001b[0m\u001b[0;34m.\u001b[0m\u001b[0mPDB\u001b[0m \u001b[0;32mimport\u001b[0m \u001b[0mPDBParser\u001b[0m\u001b[0;34m,\u001b[0m \u001b[0mSuperimposer\u001b[0m\u001b[0;34m\u001b[0m\u001b[0;34m\u001b[0m\u001b[0m\n\u001b[1;32m      4\u001b[0m \u001b[0;32mfrom\u001b[0m \u001b[0mBio\u001b[0m\u001b[0;34m.\u001b[0m\u001b[0mPDB\u001b[0m\u001b[0;34m.\u001b[0m\u001b[0mNeighborSearch\u001b[0m \u001b[0;32mimport\u001b[0m \u001b[0mNeighborSearch\u001b[0m\u001b[0;34m\u001b[0m\u001b[0;34m\u001b[0m\u001b[0m\n\u001b[1;32m      5\u001b[0m \u001b[0;34m\u001b[0m\u001b[0m\n",
            "\u001b[0;31mModuleNotFoundError\u001b[0m: No module named 'biopython'",
            "",
            "\u001b[0;31m---------------------------------------------------------------------------\u001b[0;32m\nNOTE: If your import is failing due to a missing package, you can\nmanually install dependencies using either !pip or !apt.\n\nTo view examples of installing some common dependencies, click the\n\"Open Examples\" button below.\n\u001b[0;31m---------------------------------------------------------------------------\u001b[0m\n"
          ],
          "errorDetails": {
            "actions": [
              {
                "action": "open_url",
                "actionText": "Open Examples",
                "url": "/notebooks/snippets/importing_libraries.ipynb"
              }
            ]
          }
        }
      ]
    },
    {
      "cell_type": "code",
      "source": [],
      "metadata": {
        "id": "Xt5lR4HbViT1"
      },
      "execution_count": null,
      "outputs": []
    }
  ]
}